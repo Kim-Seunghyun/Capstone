{
  "nbformat": 4,
  "nbformat_minor": 0,
  "metadata": {
    "colab": {
      "name": "NZB&CSR Example.ipynb",
      "private_outputs": true,
      "provenance": [],
      "collapsed_sections": []
    },
    "kernelspec": {
      "name": "python3",
      "display_name": "Python 3"
    },
    "accelerator": "GPU"
  },
  "cells": [
    {
      "cell_type": "code",
      "metadata": {
        "id": "rgEdHIGUzmcw"
      },
      "source": [
        "#© 2020 Gihyun Park <texnee@gmail.com>\n",
        "\n",
        "import torch\n",
        "import torch.nn as nn\n",
        "import torch.nn.functional as F\n",
        "import torch.optim as optim\n",
        "from torchvision import datasets, transforms\n",
        "from torch.autograd import Variable"
      ],
      "execution_count": null,
      "outputs": []
    },
    {
      "cell_type": "code",
      "metadata": {
        "id": "M4XNwWAGzs_K"
      },
      "source": [
        "import torch.nn.utils.prune as prune \n",
        "from matplotlib import pyplot as plt\n",
        "import numpy as np"
      ],
      "execution_count": null,
      "outputs": []
    },
    {
      "cell_type": "code",
      "metadata": {
        "id": "ZtbzD2ZeDtH9"
      },
      "source": [
        "#커스텀 모듈 불러오기\r\n",
        "from NZB import *\r\n",
        "from CSR import *"
      ],
      "execution_count": null,
      "outputs": []
    },
    {
      "cell_type": "code",
      "metadata": {
        "id": "NgVcSCMzzxiF"
      },
      "source": [
        "#디바이스 설정\n",
        "device = 'cuda' if torch.cuda.is_available()else 'cpu'\n",
        "torch.manual_seed(777) \n",
        "if device == 'cuda': \n",
        "    torch.cuda.manual_seed_all(123)\n"
      ],
      "execution_count": null,
      "outputs": []
    },
    {
      "cell_type": "code",
      "metadata": {
        "id": "DT8MfXGLzx6J"
      },
      "source": [
        "#모델 선언 및 생성 후 pruning\n",
        "class MnistModel(nn.Module):\n",
        "    def __init__(self):\n",
        "        super(MnistModel, self).__init__()\n",
        "        # input is 28x28\n",
        "        # padding=2 for same padding\n",
        "        self.conv1 = nn.Conv2d(1, 32, 3, padding=1)#nn.Conv2d(1, 32, 3, padding=1)\n",
        "        # feature map size is 14*14 by pooling\n",
        "        # padding=2 for same padding\n",
        "        self.conv2 = nn.Conv2d(32, 64, 3, padding=1)\n",
        "        # feature map size is 7*7 by pooling\n",
        "        self.fc1 = nn.Linear(64*7*7, 1024)\n",
        "        self.fc2 = nn.Linear(1024, 10)\n",
        "\n",
        "    def forward(self, x, nzb1 = 0, nzb2 = 0, infer = 0):\n",
        "        if(infer == 1):\n",
        "            nzbs1 = Nzbs(self.conv1.weight.cpu().detach().numpy()) #weight를 nzb로 변환\n",
        "            nzbs2 = Nzbs(self.conv2.weight.cpu().detach().numpy())\n",
        "\n",
        "            x = F.max_pool2d(F.relu(Myconv_nzb(x.cpu(), nzbs1, self.conv1.bias.cpu().detach().numpy()).to('cuda')), 2) #nzb conv1\n",
        "            x = F.max_pool2d(F.relu(Myconv_nzb(x.cpu(), nzbs2, self.conv2.bias.cpu().detach().numpy()).to('cuda')), 2) #nzb conv2\n",
        "        elif(infer == 2):\n",
        "            csrs1 = csrs(self.conv1.weight.cpu().detach().numpy()) #weight를 nzb로 변환\n",
        "            csrs2 = csrs(self.conv2.weight.cpu().detach().numpy())\n",
        "\n",
        "            x = F.max_pool2d(F.relu(Myconv_csr(x.cpu(), csrs1, self.conv1.bias.cpu().detach().numpy()).to('cuda')), 2) #nzb conv1\n",
        "            x = F.max_pool2d(F.relu(Myconv_csr(x.cpu(), csrs2, self.conv2.bias.cpu().detach().numpy()).to('cuda')), 2) #nzb conv2\n",
        "        else:\n",
        "            x = F.max_pool2d(F.relu(self.conv1(x)), 2) \n",
        "            x = F.max_pool2d(F.relu(self.conv2(x)), 2)\n",
        "\n",
        "        x = x.view(-1, 64*7*7)   # reshape Variable\n",
        "        x = F.relu(self.fc1(x))\n",
        "        x = F.dropout(x, training=self.training)\n",
        "        x = self.fc2(x)\n",
        "        return F.log_softmax(x)\n",
        "    \n",
        "model = MnistModel().to(device)\n",
        "prune.random_unstructured(model.conv1, name=\"weight\", amount=0.7) #pruning\n",
        "prune.random_unstructured(model.conv2, name=\"weight\", amount=0.7)"
      ],
      "execution_count": null,
      "outputs": []
    },
    {
      "cell_type": "code",
      "metadata": {
        "id": "_6ygPnpxzzHf"
      },
      "source": [
        "#트레인 로더 설정\n",
        "batch_size = 50\n",
        "train_loader = torch.utils.data.DataLoader(\n",
        "    datasets.MNIST('data', train=True, download=True, transform=transforms.ToTensor()),\n",
        "    batch_size=batch_size, shuffle=True)"
      ],
      "execution_count": null,
      "outputs": []
    },
    {
      "cell_type": "code",
      "metadata": {
        "id": "uOPlgU5Lz0EV"
      },
      "source": [
        "#테스트 로더 설정\n",
        "test_loader = torch.utils.data.DataLoader(\n",
        "    datasets.MNIST('data', train=False, transform=transforms.ToTensor()),\n",
        "    batch_size=1)"
      ],
      "execution_count": null,
      "outputs": []
    },
    {
      "cell_type": "code",
      "metadata": {
        "id": "8uYyYNZ7z1Xg"
      },
      "source": [
        "optimizer = optim.Adam(model.parameters(), lr=0.0001)"
      ],
      "execution_count": null,
      "outputs": []
    },
    {
      "cell_type": "code",
      "metadata": {
        "id": "vW1YPyeBz1lI"
      },
      "source": [
        "#학습 시작 GPU로 연산한다.\n",
        "model.train()\n",
        "train_loss = []\n",
        "train_accu = []\n",
        "i = 0\n",
        "for epoch in range(2): # 15\n",
        "    for data, target in train_loader:\n",
        "        data, target = data.to(device), target.to(device)\n",
        "        optimizer.zero_grad()\n",
        "        output = model.forward(data)\n",
        "        loss = F.nll_loss(output, target)\n",
        "        loss.backward()    # calc gradients\n",
        "        train_loss.append(loss.data)\n",
        "        optimizer.step()   # update gradients\n",
        "        prediction = output.data.max(1)[1]   # first column has actual prob.\n",
        "        accuracy = prediction.eq(target.data).sum()/batch_size*100\n",
        "        train_accu.append(accuracy)\n",
        "        if i % 1000 == 0:\n",
        "            print('Train Step: {}\\tLoss: {:.3f}\\tAccuracy: {:.3f}'.format(i, loss.data, accuracy))\n",
        "        i += 1"
      ],
      "execution_count": null,
      "outputs": []
    },
    {
      "cell_type": "code",
      "metadata": {
        "id": "j-kFB_7kz2zu"
      },
      "source": [
        "#테스트 시작 CPU로 연산한다.\n",
        "model.eval()\n",
        "correct = 0\n",
        "for data, target in test_loader:\n",
        "    start = time.time()\n",
        "    data, target = data.to(device), target.to(device)\n",
        "    output = model.forward(data, 0, 0 ,1) #0은 default 1은 nzb, 2는 nzb방식으로 테스트한다.\n",
        "    prediction = output.data.max(1)[1]\n",
        "    print(prediction, target)\n",
        "    correct += prediction.eq(target.data).sum()\n",
        "    print(\"correct: \", correct)\n",
        "    nzb_n.append(time.time()-start)\n",
        "    n += 1\n",
        "    if(n == 10):\n",
        "        break;\n",
        "print('\\nTest set: Accuracy: {:.2f}%'.format(100. * correct / len(test_loader.dataset)))"
      ],
      "execution_count": null,
      "outputs": []
    },
    {
      "cell_type": "code",
      "metadata": {
        "id": "wi_xruon_Tj9"
      },
      "source": [
        "#nzb csr 크기 비교\n",
        "import sys\n",
        "\n",
        "weight = model.conv2.weight\n",
        "weight_csr = csrs(weight)\n",
        "weight_nzb = nzbs(weight)\n",
        "\n",
        "print(sys.getsizeof(weight_csr.csrCols) + sys.getsizeof(weight_csr.csrRows))\n",
        "print(sys.getsizeof(weight_nzb.nzbWeight))"
      ],
      "execution_count": null,
      "outputs": []
    }
  ]
}